{
 "cells": [
  {
   "cell_type": "code",
   "execution_count": 1,
   "id": "8ca92651-071c-4e61-bff6-44996c99d375",
   "metadata": {
    "execution": {
     "iopub.execute_input": "2024-07-14T12:37:48.708276Z",
     "iopub.status.busy": "2024-07-14T12:37:48.708276Z",
     "iopub.status.idle": "2024-07-14T12:37:49.956399Z",
     "shell.execute_reply": "2024-07-14T12:37:49.956399Z"
    }
   },
   "outputs": [],
   "source": [
    "import pandas as pd\n",
    "\n",
    "# Load the input CSV file\n",
    "input_csv_path = 'uploads/input.csv'\n",
    "data = pd.read_csv(input_csv_path)\n",
    "\n",
    "# Perform some processing (example: add a new column)\n",
    "data['new_column'] = data['State Name'] * 2\n",
    "\n",
    "# Save the output CSV file\n",
    "output_csv_path = 'outputs/output.csv'\n",
    "data.to_csv(output_csv_path, index=False)\n"
   ]
  },
  {
   "cell_type": "code",
   "execution_count": null,
   "id": "de108397-72f0-4df3-b979-0e5177b365a2",
   "metadata": {},
   "outputs": [],
   "source": []
  }
 ],
 "metadata": {
  "kernelspec": {
   "display_name": "Python 3 (ipykernel)",
   "language": "python",
   "name": "python3"
  },
  "language_info": {
   "codemirror_mode": {
    "name": "ipython",
    "version": 3
   },
   "file_extension": ".py",
   "mimetype": "text/x-python",
   "name": "python",
   "nbconvert_exporter": "python",
   "pygments_lexer": "ipython3",
   "version": "3.9.18"
  }
 },
 "nbformat": 4,
 "nbformat_minor": 5
}
